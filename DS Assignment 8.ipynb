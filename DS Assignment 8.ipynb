{
 "cells": [
  {
   "cell_type": "code",
   "execution_count": 2,
   "metadata": {},
   "outputs": [],
   "source": [
    "import pandas as pd"
   ]
  },
  {
   "cell_type": "code",
   "execution_count": 4,
   "metadata": {},
   "outputs": [
    {
     "data": {
      "text/plain": [
       "[1, 2, 0, 1, 2, 3, 0, 1, 2]"
      ]
     },
     "execution_count": 4,
     "metadata": {},
     "output_type": "execute_result"
    }
   ],
   "source": [
    "s = pd.Series([7, 2, 0, 4, 2, 5, 0, 3, 4])\n",
    "\n",
    "(s.groupby(s.eq(0).cumsum().mask(s.eq(0))).cumcount() + 1).mask(s.eq(0), 0).tolist()"
   ]
  },
  {
   "cell_type": "code",
   "execution_count": 5,
   "metadata": {},
   "outputs": [],
   "source": [
    "# Create a datetimeindex that contains each business day of 2015 and use\n",
    "# it to index a Series of random numbers. "
   ]
  },
  {
   "cell_type": "code",
   "execution_count": 20,
   "metadata": {},
   "outputs": [],
   "source": [
    "import pandas as pd\n",
    "dates = pd.to_datetime([datetime(2015, 7, 3), '8th of July, 2015', '2015-Jul-6', '07-07-2015', '20150708'])"
   ]
  },
  {
   "cell_type": "code",
   "execution_count": 21,
   "metadata": {},
   "outputs": [
    {
     "data": {
      "text/plain": [
       "DatetimeIndex(['2015-07-03', '2015-07-08', '2015-07-06', '2015-07-07',\n",
       "               '2015-07-08'],\n",
       "              dtype='datetime64[ns]', freq=None)"
      ]
     },
     "execution_count": 21,
     "metadata": {},
     "output_type": "execute_result"
    }
   ],
   "source": [
    "dates"
   ]
  },
  {
   "cell_type": "code",
   "execution_count": 22,
   "metadata": {},
   "outputs": [
    {
     "data": {
      "text/plain": [
       "PeriodIndex(['2015-07-03', '2015-07-08', '2015-07-06', '2015-07-07',\n",
       "             '2015-07-08'],\n",
       "            dtype='period[D]', freq='D')"
      ]
     },
     "execution_count": 22,
     "metadata": {},
     "output_type": "execute_result"
    }
   ],
   "source": [
    "dates.to_period('D')"
   ]
  },
  {
   "cell_type": "code",
   "execution_count": 23,
   "metadata": {},
   "outputs": [
    {
     "data": {
      "text/plain": [
       "DatetimeIndex(['2015-01-01', '2015-01-02', '2015-01-03', '2015-01-04',\n",
       "               '2015-01-05', '2015-01-06', '2015-01-07', '2015-01-08',\n",
       "               '2015-01-09', '2015-01-10', '2015-01-11', '2015-01-12',\n",
       "               '2015-01-13', '2015-01-14', '2015-01-15', '2015-01-16',\n",
       "               '2015-01-17', '2015-01-18', '2015-01-19', '2015-01-20',\n",
       "               '2015-01-21', '2015-01-22', '2015-01-23', '2015-01-24',\n",
       "               '2015-01-25'],\n",
       "              dtype='datetime64[ns]', freq='D')"
      ]
     },
     "execution_count": 23,
     "metadata": {},
     "output_type": "execute_result"
    }
   ],
   "source": [
    "rng = pd.date_range('01/01/2015', periods=360, freq='D')\n",
    "rng[:25]"
   ]
  },
  {
   "cell_type": "code",
   "execution_count": 6,
   "metadata": {},
   "outputs": [],
   "source": [
    "# Find the sume of the values in 2015 for every wednesday\n",
    "import pandas as pd"
   ]
  },
  {
   "cell_type": "code",
   "execution_count": 7,
   "metadata": {},
   "outputs": [
    {
     "data": {
      "text/plain": [
       "DatetimeIndex(['2015-01-07', '2015-01-14', '2015-01-21', '2015-01-28',\n",
       "               '2015-02-04', '2015-02-11', '2015-02-18', '2015-02-25',\n",
       "               '2015-03-04', '2015-03-11', '2015-03-18', '2015-03-25',\n",
       "               '2015-04-01', '2015-04-08', '2015-04-15', '2015-04-22',\n",
       "               '2015-04-29', '2015-05-06', '2015-05-13', '2015-05-20',\n",
       "               '2015-05-27', '2015-06-03', '2015-06-10', '2015-06-17',\n",
       "               '2015-06-24', '2015-07-01', '2015-07-08', '2015-07-15',\n",
       "               '2015-07-22', '2015-07-29', '2015-08-05', '2015-08-12',\n",
       "               '2015-08-19', '2015-08-26', '2015-09-02', '2015-09-09',\n",
       "               '2015-09-16', '2015-09-23', '2015-09-30', '2015-10-07',\n",
       "               '2015-10-14', '2015-10-21', '2015-10-28', '2015-11-04',\n",
       "               '2015-11-11', '2015-11-18', '2015-11-25', '2015-12-02',\n",
       "               '2015-12-09', '2015-12-16', '2015-12-23'],\n",
       "              dtype='datetime64[ns]', freq='W-WED')"
      ]
     },
     "execution_count": 7,
     "metadata": {},
     "output_type": "execute_result"
    }
   ],
   "source": [
    "import pandas as pd\n",
    "pd.date_range('2015-01-01', periods=51, freq=\"W-WED\")\n"
   ]
  },
  {
   "cell_type": "code",
   "execution_count": 36,
   "metadata": {},
   "outputs": [
    {
     "name": "stdout",
     "output_type": "stream",
     "text": [
      "2015-01-04\n",
      "2015-01-11\n",
      "2015-01-18\n",
      "2015-01-25\n",
      "2015-02-01\n",
      "2015-02-08\n",
      "2015-02-15\n",
      "2015-02-22\n",
      "2015-03-01\n",
      "2015-03-08\n",
      "2015-03-15\n",
      "2015-03-22\n",
      "2015-03-29\n",
      "2015-04-05\n",
      "2015-04-12\n",
      "2015-04-19\n",
      "2015-04-26\n",
      "2015-05-03\n",
      "2015-05-10\n",
      "2015-05-17\n",
      "2015-05-24\n",
      "2015-05-31\n",
      "2015-06-07\n",
      "2015-06-14\n",
      "2015-06-21\n",
      "2015-06-28\n",
      "2015-07-05\n",
      "2015-07-12\n",
      "2015-07-19\n",
      "2015-07-26\n",
      "2015-08-02\n",
      "2015-08-09\n",
      "2015-08-16\n",
      "2015-08-23\n",
      "2015-08-30\n",
      "2015-09-06\n",
      "2015-09-13\n",
      "2015-09-20\n",
      "2015-09-27\n",
      "2015-10-04\n",
      "2015-10-11\n",
      "2015-10-18\n",
      "2015-10-25\n",
      "2015-11-01\n",
      "2015-11-08\n",
      "2015-11-15\n",
      "2015-11-22\n",
      "2015-11-29\n",
      "2015-12-06\n",
      "2015-12-13\n",
      "2015-12-20\n",
      "2015-12-27\n"
     ]
    }
   ],
   "source": [
    "from datetime import date, timedelta\n",
    "\n",
    "def all_wednesdays(year):\n",
    "    dt = date(year, 1, 1)\n",
    "    dt += timedelta(days = 6 - dt.weekday())\n",
    "    while dt.year == year:\n",
    "        yield dt\n",
    "        dt += timedelta(days = 7)\n",
    "for s in all_wednesdays(2015):\n",
    "\n",
    "    print(s)"
   ]
  },
  {
   "cell_type": "code",
   "execution_count": null,
   "metadata": {},
   "outputs": [],
   "source": []
  }
 ],
 "metadata": {
  "kernelspec": {
   "display_name": "Python 3",
   "language": "python",
   "name": "python3"
  },
  "language_info": {
   "codemirror_mode": {
    "name": "ipython",
    "version": 3
   },
   "file_extension": ".py",
   "mimetype": "text/x-python",
   "name": "python",
   "nbconvert_exporter": "python",
   "pygments_lexer": "ipython3",
   "version": "3.6.5"
  }
 },
 "nbformat": 4,
 "nbformat_minor": 2
}
